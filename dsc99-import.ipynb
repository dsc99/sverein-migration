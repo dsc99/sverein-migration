{
 "cells": [
  {
   "cell_type": "markdown",
   "metadata": {},
   "source": [
    "Read the MDB file"
   ]
  },
  {
   "cell_type": "code",
   "execution_count": 7,
   "metadata": {},
   "outputs": [],
   "source": [
    "import sys\n",
    "sys.path.append( '.' )\n",
    "import lib.ms_mdbtools as mdb\n",
    "import pandas as pd\n",
    "\n",
    "db_filename = 'Mitgliederdatenbank_DSC99.mdb'\n",
    "table_name = \"DSC99-Mitgliederdatenbank\"\n",
    "\n",
    "df = mdb.read_table(db_filename, table_name)"
   ]
  },
  {
   "cell_type": "markdown",
   "metadata": {},
   "source": [
    "Clean mitnum, fanum, zahlernr"
   ]
  },
  {
   "cell_type": "code",
   "execution_count": 9,
   "metadata": {},
   "outputs": [
    {
     "data": {
      "text/plain": [
       "ID                                             691.0\n",
       "Mitnum                                      DSC-0433\n",
       "Fanum                                            NaN\n",
       "Anrede                                         Herrn\n",
       "Vorname                                    Sebastian\n",
       "Name                                           Ronge\n",
       "Postname                             Sebastian Ronge\n",
       "Strasse                                Klein Eller 5\n",
       "Plz                                            40229\n",
       "Ort                                       Düsseldorf\n",
       "Email                                 S-Ronge@web.de\n",
       "Telefon                           (02 11) 2 29 37 11\n",
       "Telefon2                            0173 - 942 05 43\n",
       "Geburt                             08/02/85 00:00:00\n",
       "Sportart                         Tennis - Erwachsene\n",
       "Spind                                            NaN\n",
       "Mitseit                            03/01/99 00:00:00\n",
       "Austritt                                         NaN\n",
       "Geschlecht                                         M\n",
       "Zahlart                                  Überweisung\n",
       "Zahlweise                                   jährlich\n",
       "Zahlernr                                         NaN\n",
       "Ktoinhaber                                       NaN\n",
       "Ktonr                                            NaN\n",
       "Bank                                             NaN\n",
       "Blz                                              NaN\n",
       "Bemerk            Ausbildungsbescheinigung liegt vor\n",
       "Beitrag                                        350.0\n",
       "Umlage                                          25.0\n",
       "Spindbeitrag                                     0.0\n",
       "Email2                                           NaN\n",
       "Umlage Gastro                                   50.0\n",
       "Bemerk1                                          NaN\n",
       "mitnum_clean                                DSC-0433\n",
       "zahlernr_clean                                   NaN\n",
       "Name: DSC-0433, dtype: object"
      ]
     },
     "execution_count": 9,
     "metadata": {},
     "output_type": "execute_result"
    }
   ],
   "source": [
    "df = df.assign( mitnum_clean=df[\"Mitnum\"].str.replace(' ', '', regex=False).str.replace('.', '-', regex=False) )\n",
    "df = df.assign( zahlernr_clean=df[\"Zahlernr\"].str.replace(' ', '', regex=False).str.replace('.', '-', regex=False) )\n",
    "\n",
    "#df.loc['DSC-0433']\n",
    "\n",
    "df.index = df['mitnum_clean']\n",
    "df.loc['DSC-0433']"
   ]
  },
  {
   "cell_type": "markdown",
   "metadata": {},
   "source": [
    "Find all Zahler daten: Zahlart, Zahlweise, Zahlernr, Ktoinhaber, ktonr, blz"
   ]
  },
  {
   "cell_type": "code",
   "execution_count": 38,
   "metadata": {},
   "outputs": [
    {
     "name": "stdout",
     "output_type": "stream",
     "text": [
      "Unique Ktonr: 517\n",
      "Unique Fanum: 311\n"
     ]
    }
   ],
   "source": [
    "zahler_full_df = df[ (df['Ktonr'].notnull() ) ]\n",
    "zahler_df = pd.DataFrame( zahler_full_df, \n",
    "    columns=['Mitnum', 'Zahlernr', 'Fanum', 'Zahlart', 'Zahlweise', 'Ktonr', 'Ktoinhaber', 'Blz'])\n",
    "print( \"Unique Ktonr:\", zahler_df['Ktonr'].unique().size )\n",
    "print( \"Unique Fanum:\", zahler_df['Fanum'].unique().size )\n"
   ]
  }
 ],
 "metadata": {
  "interpreter": {
   "hash": "63becbfd93fbb22a07c5544d8c42348798ef171d9124de9f2ddd7d83ac1aa725"
  },
  "kernelspec": {
   "display_name": "Python 3.9.12 ('env': venv)",
   "language": "python",
   "name": "python3"
  },
  "language_info": {
   "codemirror_mode": {
    "name": "ipython",
    "version": 3
   },
   "file_extension": ".py",
   "mimetype": "text/x-python",
   "name": "python",
   "nbconvert_exporter": "python",
   "pygments_lexer": "ipython3",
   "version": "3.9.12"
  },
  "orig_nbformat": 4
 },
 "nbformat": 4,
 "nbformat_minor": 2
}
